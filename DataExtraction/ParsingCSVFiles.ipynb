{
 "cells": [
  {
   "cell_type": "code",
   "execution_count": 16,
   "metadata": {},
   "outputs": [
    {
     "name": "stdout",
     "output_type": "stream",
     "text": [
      "27\n",
      "{'Title': 'Please Please Me', 'Released': '22 March 1963', 'Label': 'Parlophone(UK)', 'UK Chart Position': '1', 'US Chart Position': '-', 'BPI Certification': 'Gold', 'RIAA Certification': 'Platinum'}\n",
      "{'Title': '', 'Released': '10 July 1964', 'Label': 'Parlophone(UK)', 'UK Chart Position': '1', 'US Chart Position': '-', 'BPI Certification': 'Gold', 'RIAA Certification': ''}\n"
     ]
    }
   ],
   "source": [
    "import os  # Importing the os module for handling file paths\n",
    "import csv  # Importing the csv module for reading CSV files\n",
    "\n",
    "# Setting the directory and filename for the CSV file\n",
    "DATADIR = \"C:/Users/bayir/OneDrive/Bureau/Mongodb/DataExtraction/Data/\"\n",
    "DATAFILE = \"beatles-discography.csv\"\n",
    "\n",
    "def parse_file(datafile):\n",
    "    \"\"\"\n",
    "    Function to parse a CSV file and return its contents as a list of dictionaries.\n",
    "\n",
    "    Args:\n",
    "    - datafile: The path to the CSV file to be parsed.\n",
    "\n",
    "    Returns:\n",
    "    - data: A list of dictionaries where each dictionary represents a row of data from the CSV file.\n",
    "    \"\"\"\n",
    "    data = []  # Initialize an empty list to store the parsed data\n",
    "    with open(datafile, \"r\", newline='', encoding='utf-8') as f:\n",
    "        reader = csv.DictReader(f)  # Create a CSV reader object\n",
    "        for row in reader:  # Iterate over each row in the CSV file\n",
    "            # Strip whitespace from each value in the row and store it in a dictionary\n",
    "            cleaned_row = {key: value.strip() for key, value in row.items()}\n",
    "            data.append(cleaned_row)  # Append the cleaned row to the data list\n",
    "    return data  # Return the parsed data\n",
    "\n",
    "def test():\n",
    "    \"\"\"\n",
    "    Function to test the implementation of the parse_file function.\n",
    "    \"\"\"\n",
    "    # Construct the full path to the CSV file\n",
    "    datafile = os.path.join(DATADIR, DATAFILE)\n",
    "    # Parse the CSV file and store the result in variable d\n",
    "    d = parse_file(datafile)\n",
    "    # Define expected first and tenth lines of the parsed data\n",
    "    firstline = {'Title': 'Please Please Me', 'UK Chart Position': '1', 'Label': 'Parlophone(UK)', 'Released': '22 March 1963', 'US Chart Position': '-', 'RIAA Certification': 'Platinum', 'BPI Certification': 'Gold'}\n",
    "    tenthline = {'Title': '', 'UK Chart Position': '1', 'Label': 'Parlophone(UK)', 'Released': '10 July 1964', 'US Chart Position': '-', 'RIAA Certification': '', 'BPI Certification': 'Gold'}\n",
    "\n",
    "    # Print the length of the parsed data, and the first and tenth lines for manual inspection\n",
    "    print(len(d))\n",
    "    print(d[0])\n",
    "    print(d[9])\n",
    "\n",
    "    # Assert statements to verify if the first and tenth lines of the parsed data match the expected values\n",
    "    assert d[0] == firstline\n",
    "    assert d[9] == tenthline\n",
    "\n",
    "# Call the test function to run the test\n",
    "test()\n",
    "\n"
   ]
  },
  {
   "cell_type": "code",
   "execution_count": null,
   "metadata": {},
   "outputs": [],
   "source": []
  }
 ],
 "metadata": {
  "kernelspec": {
   "display_name": "torch",
   "language": "python",
   "name": "python3"
  },
  "language_info": {
   "codemirror_mode": {
    "name": "ipython",
    "version": 3
   },
   "file_extension": ".py",
   "mimetype": "text/x-python",
   "name": "python",
   "nbconvert_exporter": "python",
   "pygments_lexer": "ipython3",
   "version": "3.9.17"
  }
 },
 "nbformat": 4,
 "nbformat_minor": 2
}
