{
 "cells": [
  {
   "cell_type": "code",
   "execution_count": 9,
   "metadata": {},
   "outputs": [],
   "source": [
    "import xlrd  # Importing the xlrd module for reading Excel files\n",
    "\n",
    "# Setting the path to the Excel file\n",
    "datafile = \"C:/Users/bayir/OneDrive/Bureau/Mongodb/DataExtraction/Data/2013_ERCOT_Hourly_Load_Data.xls\"\n"
   ]
  },
  {
   "cell_type": "code",
   "execution_count": 10,
   "metadata": {},
   "outputs": [
    {
     "name": "stdout",
     "output_type": "stream",
     "text": [
      "\n",
      "List Comprehension\n",
      "data[3][2]: 1036.0886969999988\n",
      "\n",
      "Cells in a nested loop:\n",
      "41277.083333333336\n",
      "9238.737309999968\n",
      "1438.2052799999994\n",
      "1565.4428559999976\n",
      "916.7083480000003\n",
      "14010.903488000036\n",
      "3027.9833399999993\n",
      "6165.211119000006\n",
      "1157.7416630000007\n",
      "37520.93340400001\n",
      "\n",
      "ROWS, COLUMNS, and CELLS:\n",
      "Number of rows in the sheet: 7296\n",
      "Type of data in cell (row 3, col 2): 2\n",
      "Value in cell (row 3, col 2): 1036.0886969999988\n",
      "Get a slice of values in column 3, from rows 1-3: [1411.7505669999982, 1403.4722870000019, 1395.053150000001]\n",
      "\n",
      "DATES:\n",
      "Type of data in cell (row 1, col 0): 3\n",
      "Time in Excel format: 41275.041666666664\n",
      "Convert time to a Python datetime tuple, from the Excel float: (2013, 1, 1, 1, 0, 0)\n"
     ]
    }
   ],
   "source": [
    "\n",
    "def parse_file(datafile):\n",
    "    \"\"\"\n",
    "    Function to parse an Excel file and return its contents as a list of lists.\n",
    "\n",
    "    Args:\n",
    "    - datafile: The path to the Excel file to be parsed.\n",
    "\n",
    "    Returns:\n",
    "    - data: A list of lists where each inner list represents a row of data from the Excel file.\n",
    "    \"\"\"\n",
    "    # Open the Excel workbook and select the first sheet\n",
    "    workbook = xlrd.open_workbook(datafile)\n",
    "    sheet = workbook.sheet_by_index(0)\n",
    "\n",
    "    # Extract data from the sheet using list comprehension\n",
    "    data = [[sheet.cell_value(r, col) \n",
    "                for col in range(sheet.ncols)] \n",
    "                    for r in range(sheet.nrows)]\n",
    "\n",
    "    # Print data at specific positions for demonstration\n",
    "    print(\"\\nList Comprehension\")\n",
    "    print(\"data[3][2]:\", data[3][2])\n",
    "\n",
    "    print(\"\\nCells in a nested loop:\")    \n",
    "    for row in range(sheet.nrows):\n",
    "        for col in range(sheet.ncols):\n",
    "            if row == 50:\n",
    "                print(sheet.cell_value(row, col))\n",
    "\n",
    "    # Print some useful information about the sheet\n",
    "    print (\"\\nROWS, COLUMNS, and CELLS:\")\n",
    "    print (\"Number of rows in the sheet:\", sheet.nrows)\n",
    "    print (\"Type of data in cell (row 3, col 2):\", sheet.cell_type(3, 2))\n",
    "    print (\"Value in cell (row 3, col 2):\", sheet.cell_value(3, 2))\n",
    "    print (\"Get a slice of values in column 3, from rows 1-3:\", sheet.col_values(3, start_rowx=1, end_rowx=4))\n",
    "\n",
    "    print(\"\\nDATES:\")\n",
    "    print(\"Type of data in cell (row 1, col 0):\", sheet.cell_type(1, 0))\n",
    "    exceltime = sheet.cell_value(1, 0)\n",
    "    print(\"Time in Excel format:\", exceltime)\n",
    "    print(\"Convert time to a Python datetime tuple, from the Excel float:\", xlrd.xldate_as_tuple(exceltime, 0))\n",
    "\n",
    "    return data  # Return the parsed data\n",
    "\n",
    "# Call the parse_file function to parse the Excel file and store the result in variable data\n",
    "data = parse_file(datafile)\n"
   ]
  },
  {
   "cell_type": "code",
   "execution_count": null,
   "metadata": {},
   "outputs": [],
   "source": []
  }
 ],
 "metadata": {
  "kernelspec": {
   "display_name": "torch",
   "language": "python",
   "name": "python3"
  },
  "language_info": {
   "codemirror_mode": {
    "name": "ipython",
    "version": 3
   },
   "file_extension": ".py",
   "mimetype": "text/x-python",
   "name": "python",
   "nbconvert_exporter": "python",
   "pygments_lexer": "ipython3",
   "version": "3.9.17"
  }
 },
 "nbformat": 4,
 "nbformat_minor": 2
}
